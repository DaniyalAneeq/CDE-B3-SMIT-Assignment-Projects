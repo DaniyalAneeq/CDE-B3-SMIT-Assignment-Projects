{
 "cells": [
  {
   "cell_type": "markdown",
   "id": "db38f6c9",
   "metadata": {},
   "source": [
    "<div align=\"center\"><b style=\"font-size: 40px\">Conditional Statements</b></div>"
   ]
  },
  {
   "cell_type": "markdown",
   "id": "b0e245c6",
   "metadata": {},
   "source": [
    "1. A company decided to give bonus of 5% to employee if his/her year of service is more than 5 years. Ask user for their salary and year of service and print the net bonus amount."
   ]
  },
  {
   "cell_type": "code",
   "execution_count": 2,
   "id": "987267ff",
   "metadata": {},
   "outputs": [
    {
     "name": "stdout",
     "output_type": "stream",
     "text": [
      "Net bonus amount is: 2000.0\n",
      "Your net amount is: 42000.0\n"
     ]
    }
   ],
   "source": [
    "salary = int(input(\"Enter you current salary: \"))\n",
    "year_of_service = int(input(\"How many years of service have you given?: \"))\n",
    "\n",
    "if year_of_service > 5:\n",
    "  five_percent_of_salaray = (5/100)*salary\n",
    "  total_salary = five_percent_of_salaray + salary\n",
    "  print(f\"Net bonus amount is: {five_percent_of_salaray}\")\n",
    "  print(f\"Your net amount is: {total_salary}\")\n",
    "else:\n",
    "  print(\"You are not eligible for the bonus.\")"
   ]
  },
  {
   "cell_type": "markdown",
   "id": "508c40e1",
   "metadata": {},
   "source": [
    "2. Write a program to check whether a person is eligible for voting or not. (accept age from user) if age is greater than 17 eligible otherwise not eligible."
   ]
  },
  {
   "cell_type": "code",
   "execution_count": 3,
   "id": "8462cdcd",
   "metadata": {},
   "outputs": [
    {
     "name": "stdout",
     "output_type": "stream",
     "text": [
      "You are eligible for voting\n"
     ]
    }
   ],
   "source": [
    "age = int(input(\"Enter your age: \"))\n",
    "\n",
    "if age > 17:\n",
    "  print(\"You are eligible for voting\")\n",
    "else:\n",
    "  print(\"You are not eligible for voting\")"
   ]
  },
  {
   "cell_type": "markdown",
   "id": "c2b77051",
   "metadata": {},
   "source": [
    "3. Write a program to check whether a number entered by user is even or odd."
   ]
  },
  {
   "cell_type": "code",
   "execution_count": 4,
   "id": "e8fc3eee",
   "metadata": {},
   "outputs": [
    {
     "name": "stdout",
     "output_type": "stream",
     "text": [
      "The number is even.\n"
     ]
    }
   ],
   "source": [
    "number = int(input(\"Enter a number: \"))\n",
    "\n",
    "if number % 2 == 0:\n",
    "  print(\"The number is even.\")\n",
    "else:\n",
    "  print(\"The number is odd.\")"
   ]
  },
  {
   "cell_type": "markdown",
   "id": "c6d67230",
   "metadata": {},
   "source": [
    "4. Write a program to check whether a number is divisible by 7 or not. Show Answer."
   ]
  },
  {
   "cell_type": "code",
   "execution_count": 5,
   "id": "d7831056",
   "metadata": {},
   "outputs": [
    {
     "name": "stdout",
     "output_type": "stream",
     "text": [
      "The number is divisble by 7.\n"
     ]
    }
   ],
   "source": [
    "number1 = int(input(\"Enter a number: \"))\n",
    "\n",
    "if number1 % 7 == 0:\n",
    "  print(\"The number is divisble by 7.\")\n",
    "else:\n",
    "  print(\"The number is not divisible by 7.\")"
   ]
  },
  {
   "cell_type": "markdown",
   "id": "b93a3a47",
   "metadata": {},
   "source": [
    "5. Write a program to display \"Hello\" if a number entered by user is a multiple of five , otherwise print \"Bye\"."
   ]
  },
  {
   "cell_type": "code",
   "execution_count": 6,
   "id": "b294d107",
   "metadata": {},
   "outputs": [
    {
     "name": "stdout",
     "output_type": "stream",
     "text": [
      "Bye\n"
     ]
    }
   ],
   "source": [
    "number2 = int(input(\"Enter a number: \"))\n",
    "\n",
    "if number2 % 5 == 0:\n",
    "  print(\"Hello\")\n",
    "else:\n",
    "  print(\"Bye\")"
   ]
  },
  {
   "cell_type": "markdown",
   "id": "99a9e06a",
   "metadata": {},
   "source": [
    "6. Write a program to calculate the electricity bill (accept number of unit from user) according to the following criteria : Unit Price\n",
    "uptp 100 units no charge Next 200 units Rs 5 per unit After 200 units Rs 10 per unit (For example if input unit is 350 than total bill amount is Rs.3500) (For example if input unit is 97 than total bill amount is Rs.0 (For example if input unit is 150 than total bill amount is Rs.750)"
   ]
  },
  {
   "cell_type": "code",
   "execution_count": 44,
   "id": "3a01840b",
   "metadata": {},
   "outputs": [
    {
     "name": "stdout",
     "output_type": "stream",
     "text": [
      "bill= 1500\n"
     ]
    }
   ],
   "source": [
    "units = int(input(\"Enter your unit: \"))\n",
    "\n",
    "if  units > 100:\n",
    "    bill =  units * 5\n",
    "    print(f\"bill= {bill}\")\n",
    "elif units  > 300:\n",
    "    bill = units * 10\n",
    "    print(f\"bill= {bill}\")\n",
    "else: \n",
    "    bill = 0\n",
    "    print(f\"bill= {bill}\")\n"
   ]
  },
  {
   "cell_type": "markdown",
   "id": "5223ebb2",
   "metadata": {},
   "source": [
    "7. Write a program to display the last digit of a number."
   ]
  },
  {
   "cell_type": "code",
   "execution_count": 7,
   "id": "7ac991b5",
   "metadata": {},
   "outputs": [
    {
     "name": "stdout",
     "output_type": "stream",
     "text": [
      "The last digit of the number is: 9\n"
     ]
    }
   ],
   "source": [
    "number3 = int(input(\"Enter a number: \"))\n",
    "last_digit = number3 % 10\n",
    "print(f\"The last digit of the number is: {last_digit}\")"
   ]
  },
  {
   "cell_type": "markdown",
   "id": "e101ced0",
   "metadata": {},
   "source": [
    "9. Take values of length and breadth of a rectangle from user and print if it is square or rectangle."
   ]
  },
  {
   "cell_type": "code",
   "execution_count": 8,
   "id": "f853e0e2",
   "metadata": {},
   "outputs": [
    {
     "name": "stdout",
     "output_type": "stream",
     "text": [
      "It's a square!\n"
     ]
    }
   ],
   "source": [
    "length = int(input(\"Enter a value of length: \"))\n",
    "breadth = int(input(\"Enter a value of breadth: \"))\n",
    "\n",
    "if length == breadth:\n",
    "  print(\"It's a square!\")\n",
    "else:\n",
    "  print(\"It's rectangle!\")"
   ]
  },
  {
   "cell_type": "markdown",
   "id": "dd70488b",
   "metadata": {},
   "source": [
    "10. Take two int values from user and print greatest among them."
   ]
  },
  {
   "cell_type": "code",
   "execution_count": 9,
   "id": "d22ed9a6",
   "metadata": {},
   "outputs": [
    {
     "name": "stdout",
     "output_type": "stream",
     "text": [
      "5 is greater than 4\n"
     ]
    }
   ],
   "source": [
    "value1 = int(input(\"Enter a value: \"))\n",
    "value2 = int(input(\"Enter a value: \"))\n",
    "\n",
    "\n",
    "if value1 > value2:\n",
    "  print(f\"{value1} is greater than {value2}\")\n",
    "elif value1 == value2:\n",
    "  print(f\"{value1} is equal to {value2}\")\n",
    "else:\n",
    "  print(f\"{value2} is greater than {value1}\")"
   ]
  },
  {
   "cell_type": "markdown",
   "id": "eec35fa5",
   "metadata": {},
   "source": [
    "11. A shop will give discount of 10% if the cost of purchased quantity is more than 1000. Ask user for quantity Suppose, one unit will cost 100. Judge and print total cost for user."
   ]
  },
  {
   "cell_type": "code",
   "execution_count": 10,
   "id": "585fdda9",
   "metadata": {},
   "outputs": [
    {
     "name": "stdout",
     "output_type": "stream",
     "text": [
      "Your total amount after discount of 10%: 1008000.0\n"
     ]
    }
   ],
   "source": [
    "quantity = int(input(\"Enter a quantity of items: \"))\n",
    "\n",
    "each_item = 100\n",
    "total_amount = each_item*quantity\n",
    "if total_amount > 1000:\n",
    "  discount = (10/100)*total_amount\n",
    "  total_amount -= discount\n",
    "  print(f\"Your total amount after discount of 10%: {total_amount}\")\n",
    "else:\n",
    "  print(f\"Your total amount is: {total_amount}\")\n"
   ]
  },
  {
   "cell_type": "markdown",
   "id": "045f5c65",
   "metadata": {},
   "source": [
    "12. A school has following rules for grading system:\n",
    "a. Below 25 - F\n",
    "\n",
    "b. 25 to 45 - E\n",
    "\n",
    "c. 45 to 50 - D\n",
    "\n",
    "d. 50 to 60 - C\n",
    "\n",
    "e. 60 to 80 - B\n",
    "\n",
    "f. Above 80 - A\n",
    "\n",
    "Ask user to enter marks and print the corresponding grade."
   ]
  },
  {
   "cell_type": "code",
   "execution_count": 12,
   "id": "ff0bb904",
   "metadata": {},
   "outputs": [
    {
     "name": "stdout",
     "output_type": "stream",
     "text": [
      "Grade: B\n"
     ]
    }
   ],
   "source": [
    "marks = float(input(\"Enter your marks: \"))\n",
    "\n",
    "if marks > 80:\n",
    "  print(\"Grade: A\")\n",
    "elif marks > 60:\n",
    "  print(\"Grade: B\")\n",
    "elif marks > 50:\n",
    "  print(\"Grade: C\")\n",
    "elif marks > 45:\n",
    "  print(\"Grade: D\")\n",
    "elif marks > 25:\n",
    "  print(\"Grade: E\")\n",
    "else:\n",
    "  print(\"Grade: F\")"
   ]
  },
  {
   "cell_type": "markdown",
   "id": "076e6a0e",
   "metadata": {},
   "source": [
    "13. Take input of age of 3 people by user and determine oldest and youngest among them."
   ]
  },
  {
   "cell_type": "code",
   "execution_count": 46,
   "id": "dbfc7618",
   "metadata": {},
   "outputs": [
    {
     "name": "stdout",
     "output_type": "stream",
     "text": [
      "The oldest user is: 24\n",
      "The youngest user is: 20\n"
     ]
    }
   ],
   "source": [
    "user1 = int(input(\"Enter your age: \"))\n",
    "user2 = int(input(\"Enter your age: \"))\n",
    "user3 = int(input(\"Enter your age: \"))\n",
    "\n",
    "if user1 > user2 and user1 > user3:\n",
    "    oldest = user1\n",
    "elif user2 > user1 and user2 > user3:\n",
    "    oldest = user2\n",
    "else:\n",
    "    oldest = user3\n",
    "    \n",
    "if user1 < user2 and user1 < user3:\n",
    "    youngest = user1\n",
    "elif user2 < user1 and user2 < user3:\n",
    "    youngest = user2\n",
    "else:\n",
    "    youngest = user3\n",
    "    \n",
    "print(f\"The oldest user is: {oldest}\")\n",
    "print(f\"The youngest user is: {youngest}\")\n"
   ]
  },
  {
   "cell_type": "markdown",
   "id": "3e826ab4",
   "metadata": {},
   "source": [
    "14. A student will not be allowed to sit in exam if his/her attendence is less than 75%.\n",
    "\n",
    "Take following input from user\n",
    "\n",
    "Number of classes held\n",
    "\n",
    "Number of classes attended.\n",
    "\n",
    "And print\n",
    "\n",
    "percentage of class attended\n",
    "\n",
    "Is student is allowed to sit in exam or not."
   ]
  },
  {
   "cell_type": "code",
   "execution_count": 23,
   "id": "42a256d6",
   "metadata": {},
   "outputs": [
    {
     "name": "stdout",
     "output_type": "stream",
     "text": [
      "Student is allowed to sit in the exam.\n"
     ]
    }
   ],
   "source": [
    "student_attendence = 75\n",
    "\n",
    "if student_attendence >= 75:\n",
    "  print(\"Student is allowed to sit in the exam.\")\n",
    "else:\n",
    "  print(\"Student is not allowed to sit in the exam because of low attedence.\")"
   ]
  },
  {
   "cell_type": "markdown",
   "id": "01b17a49",
   "metadata": {},
   "source": [
    "15. Modify the above question to allow student to sit if he/she has medical cause. Ask user if he/she has medical cause or not ( 'Y' or 'N' ) and print accordingly."
   ]
  },
  {
   "cell_type": "code",
   "execution_count": 25,
   "id": "3e115736",
   "metadata": {},
   "outputs": [
    {
     "name": "stdout",
     "output_type": "stream",
     "text": [
      "You are allowed to sit.\n"
     ]
    }
   ],
   "source": [
    "medical_cause = input(\"You have a medical problem? Yes or No :\")\n",
    "\n",
    "if medical_cause == \"yes\":\n",
    "    print(\"You are allowed to sit.\")\n",
    "elif medical_cause == \"no\":\n",
    "    print(\"You are not allowed to sit.\")\n",
    "else:\n",
    "    print(\"Please answer only 'yes' or 'no'\")"
   ]
  },
  {
   "cell_type": "markdown",
   "id": "22767a28",
   "metadata": {},
   "source": [
    "16. Write a program to check if a year is leap year or not.\n",
    "If a year is divisible by 4 then it is leap year but if the year is century year like 2000, 1900, 2100 then it must be divisible by 400."
   ]
  },
  {
   "cell_type": "code",
   "execution_count": 26,
   "id": "c92ba3af",
   "metadata": {},
   "outputs": [
    {
     "name": "stdout",
     "output_type": "stream",
     "text": [
      "It's not a leap year.\n"
     ]
    }
   ],
   "source": [
    "year = int(input(\"Enter a year: \"))\n",
    "\n",
    "if year % 4 == 0:\n",
    "  print(\"It's a leap year.\")\n",
    "else:\n",
    "  print(\"It's not a leap year.\")"
   ]
  },
  {
   "cell_type": "markdown",
   "id": "c6f1bb62",
   "metadata": {},
   "source": [
    "17. Ask user to enter age, gender ( M or F ), marital status ( Y or N ) and then using following rules print their place of service.\n",
    "if employee is female, then she will work only in urban areas.\n",
    "\n",
    "if employee is a male and age is in between 20 to 40 then he may work in anywhere\n",
    "\n",
    "if employee is male and age is in between 40 t0 60 then he will work in urban areas only.\n",
    "\n",
    "And any other input of age should print \"ERROR\""
   ]
  },
  {
   "cell_type": "code",
   "execution_count": 38,
   "id": "dd05af91",
   "metadata": {},
   "outputs": [
    {
     "name": "stdout",
     "output_type": "stream",
     "text": [
      "He may work in anywhere\n"
     ]
    }
   ],
   "source": [
    "try:\n",
    "    age = int(input(\"Enter your age: \"))\n",
    "\n",
    "    while True:\n",
    "        gender = input(\"Enter gender ('M' or 'F'): \").upper()\n",
    "        if gender in (\"M\", \"F\"):\n",
    "            break\n",
    "        print(\"Invalid input! Please enter M or F.\")\n",
    "\n",
    "    while True:\n",
    "        marital_status = input(\"Enter a merital status (Y or N): \").upper()\n",
    "        if marital_status in (\"Y\", \"N\"):\n",
    "            break\n",
    "        print(\"Invalid input! Please enter Y or N.\")\n",
    "\n",
    "    if gender == \"F\":\n",
    "        print(\"she will work only in urban areas.\")\n",
    "    if gender == \"M\" and 40 <= age <= 40:\n",
    "        print(\"He may work in anywhere\")\n",
    "    elif gender == \"M\" and 40 <= age <= 60:\n",
    "        print(\"He will work in urban areas only.\")\n",
    "        \n",
    "except ValueError as e:\n",
    "    print(f\"age must be a number, Error: {e}\")  "
   ]
  }
 ],
 "metadata": {
  "kernelspec": {
   "display_name": "Python 3",
   "language": "python",
   "name": "python3"
  },
  "language_info": {
   "codemirror_mode": {
    "name": "ipython",
    "version": 3
   },
   "file_extension": ".py",
   "mimetype": "text/x-python",
   "name": "python",
   "nbconvert_exporter": "python",
   "pygments_lexer": "ipython3",
   "version": "3.13.2"
  }
 },
 "nbformat": 4,
 "nbformat_minor": 5
}
