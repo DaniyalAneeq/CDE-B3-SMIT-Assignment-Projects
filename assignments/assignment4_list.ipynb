{
 "cells": [
  {
   "cell_type": "markdown",
   "id": "7a3fdd32",
   "metadata": {},
   "source": [
    "<div align=\"center\"><b style=\"font-size: 40px\">List Assignment</b></div>"
   ]
  },
  {
   "cell_type": "markdown",
   "id": "aeedab94",
   "metadata": {},
   "source": [
    "1. Write a program that accepts a list from user and print the alternate element of list."
   ]
  },
  {
   "cell_type": "code",
   "execution_count": 4,
   "id": "c202bd8d",
   "metadata": {},
   "outputs": [
    {
     "name": "stdout",
     "output_type": "stream",
     "text": [
      "Alternate elements of a list: ['10', '30']\n"
     ]
    }
   ],
   "source": [
    "user_input = input(\"Enter a list of items: \").split()\n",
    "\n",
    "print(\"Alternate elements of a list:\", user_input[::2])"
   ]
  },
  {
   "cell_type": "markdown",
   "id": "4885debf",
   "metadata": {},
   "source": [
    "2.  Write a program that accepts a list from user. Your program should reverse the content of list and \n",
    "display it. Do not use reverse() method.  "
   ]
  },
  {
   "cell_type": "code",
   "execution_count": 7,
   "id": "2b4c699b",
   "metadata": {},
   "outputs": [
    {
     "data": {
      "text/plain": [
       "['7', '6', '5', '4', '3', '2', '1']"
      ]
     },
     "execution_count": 7,
     "metadata": {},
     "output_type": "execute_result"
    }
   ],
   "source": [
    "user_input = input(\"Enter a list of items: \").split()\n",
    "\n",
    "user_input[::-1]"
   ]
  },
  {
   "cell_type": "markdown",
   "id": "89f77c91",
   "metadata": {},
   "source": [
    "3. Find and display the largest number of a list without using built-in function max(). Your program \n",
    "should ask the user to input values in list from keyboard. "
   ]
  },
  {
   "cell_type": "code",
   "execution_count": 27,
   "id": "af1bccf5",
   "metadata": {},
   "outputs": [
    {
     "name": "stdout",
     "output_type": "stream",
     "text": [
      "The largest number in this list is: 99\n"
     ]
    }
   ],
   "source": [
    "user_input = list(map(int, input(\"Enter a list of items: \").split()))\n",
    "user_input.sort()\n",
    "print(f\"The largest number in this list is: {user_input[-1]}\")"
   ]
  },
  {
   "cell_type": "markdown",
   "id": "0639a257",
   "metadata": {},
   "source": [
    "4. Write a program that rotates the element of a list so that the element at the first index moves to the \n",
    "second index, the element in the second index moves to the third index, etc., and the element in the last \n",
    "index moves to the first index.  "
   ]
  },
  {
   "cell_type": "code",
   "execution_count": 33,
   "id": "f254bc18",
   "metadata": {},
   "outputs": [
    {
     "name": "stdout",
     "output_type": "stream",
     "text": [
      "[88, 44, 55, 78]\n"
     ]
    }
   ],
   "source": [
    "my_lst = [44, 55, 78, 88]\n",
    "my_lst.insert(0,my_lst.pop(-1))\n",
    "print(my_lst)"
   ]
  },
  {
   "cell_type": "markdown",
   "id": "0f3ac061",
   "metadata": {},
   "source": [
    "5. Write a program that input a string and ask user to delete a given word from a string.  "
   ]
  },
  {
   "cell_type": "code",
   "execution_count": 40,
   "id": "dfe87e8e",
   "metadata": {},
   "outputs": [
    {
     "name": "stdout",
     "output_type": "stream",
     "text": [
      "Hi I'm a std at SMIT\n",
      "Hi I'm a std\n"
     ]
    }
   ],
   "source": [
    "user_str = str(input(\"Enter your sentence: \"))\n",
    "\n",
    "print(user_str)\n",
    "\n",
    "user_word = str(input(\"Enter a word from your sentence to be delete: \"))\n",
    "\n",
    "del_word = user_str.strip(user_word)\n",
    "print(del_word)"
   ]
  },
  {
   "cell_type": "markdown",
   "id": "c2d865b0",
   "metadata": {},
   "source": [
    "6. Write a program that reads a string from the user containing a date in the form mm/dd/yyyy. It \n",
    "should print the date in the form March 12, 2021.  "
   ]
  },
  {
   "cell_type": "code",
   "execution_count": 9,
   "id": "37114cb9",
   "metadata": {},
   "outputs": [
    {
     "name": "stdout",
     "output_type": "stream",
     "text": [
      "Date: August 16, 2025\n"
     ]
    }
   ],
   "source": [
    "user_str = str(input(\"Enter a date in the form of mm/dd/yyyy:  \"))\n",
    "\n",
    "mm, dd, yyyy = user_str.split(\"/\")\n",
    "\n",
    "months = [\n",
    "    \"January\",\n",
    "    \"Feburary\",\n",
    "    \"March\",\n",
    "    \"April\",\n",
    "    \"May\",\n",
    "    \"June\",\n",
    "    \"July\",\n",
    "    \"August\",\n",
    "    \"September\",\n",
    "    \"October\",\n",
    "    \"November\",\n",
    "    \"December\"\n",
    "]\n",
    "\n",
    "month = months[int(mm) - 1]\n",
    "print(f\"Date: {month} {dd}, {yyyy}\")"
   ]
  },
  {
   "cell_type": "markdown",
   "id": "3bfd0dc9",
   "metadata": {},
   "source": [
    "7. Write a program with a function that accepts a string from keyboard and create a new string after \n",
    "converting character of each word capitalized. For instance, if the sentence is \"stop and smell the roses.\" \n",
    "the output should be \"Stop And Smell The Roses\"."
   ]
  },
  {
   "cell_type": "code",
   "execution_count": 15,
   "id": "a49cec07",
   "metadata": {},
   "outputs": [
    {
     "name": "stdout",
     "output_type": "stream",
     "text": [
      "Stop And Smell The Roses.\n"
     ]
    }
   ],
   "source": [
    "user_str = str(input(\"Enter your sentence:  \"))\n",
    "\n",
    "def capitalize_str(string: str):\n",
    "    cap_str = string.title()\n",
    "    return cap_str\n",
    "\n",
    "print(capitalize_str(user_str))"
   ]
  },
  {
   "cell_type": "markdown",
   "id": "ba0d7d93",
   "metadata": {},
   "source": [
    "8. Find the sum of each row of matrix of size m x n. For example for the following matrix output will be \n",
    "like this : \n",
    "\n",
    "2  11  7  12    \n",
    "5  2   9  15  \n",
    "8  3  10  42  \n",
    "\n",
    "Sum of row 1 = 32 \n",
    "Sum of row 2 = 31 \n",
    "Sum of row 3 = 63"
   ]
  },
  {
   "cell_type": "code",
   "execution_count": 58,
   "id": "c5612b02",
   "metadata": {},
   "outputs": [
    {
     "name": "stdout",
     "output_type": "stream",
     "text": [
      "Sum of row 1 = 49\n",
      "Sum of row 2 = 104\n",
      "Sum of row 3 = 82\n"
     ]
    }
   ],
   "source": [
    "\n",
    "my_matrics = [\n",
    "    [2, 25, 15, 7],\n",
    "    [8, 50, 45, 1],\n",
    "    [9, 40, 31, 2],\n",
    "]\n",
    "\n",
    "\n",
    "for row_index, row in enumerate(my_matrics, start=1):\n",
    "    row_sum = sum(row)\n",
    "    print(f\"Sum of row {row_index} = {row_sum}\")"
   ]
  },
  {
   "cell_type": "markdown",
   "id": "a4307e9f",
   "metadata": {},
   "source": [
    "9. Write a program to add two matrices of size n x m."
   ]
  },
  {
   "cell_type": "code",
   "execution_count": 73,
   "id": "c26a3d63",
   "metadata": {},
   "outputs": [
    {
     "name": "stdout",
     "output_type": "stream",
     "text": [
      "[[4, 50, 30, 14], [16, 100, 90, 2], [18, 80, 62, 4]]\n"
     ]
    }
   ],
   "source": [
    "matrics1 = [\n",
    "    [2, 25, 15, 7],\n",
    "    [8, 50, 45, 1],\n",
    "    [9, 40, 31, 2],\n",
    "]\n",
    "\n",
    "matrics2 = [\n",
    "    [2, 25, 15, 7],\n",
    "    [8, 50, 45, 1],\n",
    "    [9, 40, 31, 2],\n",
    "]\n",
    "result = []\n",
    "\n",
    "for row1, row2 in zip(matrics1, matrics2):\n",
    "    new_row = []\n",
    "    for val1, val2 in zip(row1, row2):\n",
    "        added_val = val1 + val2 \n",
    "        new_row.append(added_val)\n",
    "    result.append(new_row)\n",
    "\n",
    "print(result)"
   ]
  },
  {
   "cell_type": "markdown",
   "id": "6b223bc2",
   "metadata": {},
   "source": [
    "10. Write a program to multiply two matrices"
   ]
  },
  {
   "cell_type": "code",
   "execution_count": 38,
   "id": "ae56da4e",
   "metadata": {},
   "outputs": [
    {
     "name": "stdout",
     "output_type": "stream",
     "text": [
      "[244, 1800]\n",
      "[52, 400]\n"
     ]
    }
   ],
   "source": [
    "matrics1 = [\n",
    "    [22, 25],\n",
    "    [6, 5],\n",
    "]\n",
    "\n",
    "matrics2 = [\n",
    "    [2, 25],\n",
    "    [8, 50],\n",
    "]\n",
    "\n",
    "rows_m1 = len(matrics1)\n",
    "cols_m1 = len(matrics1[0])\n",
    "rows_m2 = len(matrics2)\n",
    "cols_m2 = len(matrics2[0])\n",
    "\n",
    "\n",
    "result = [[0 for _ in range(cols_m2)] for _ in range(rows_m1)]\n",
    "\n",
    "# # Multiply manually using 3 loops\n",
    "for i in range(rows_m1):\n",
    "    for j in range(cols_m2):      \n",
    "        for k in range(cols_m1):  \n",
    "            result[i][j] += matrics1[i][k] * matrics2[k][j]\n",
    "\n",
    "\n",
    "for r in result:\n",
    "    print(r)\n"
   ]
  }
 ],
 "metadata": {
  "kernelspec": {
   "display_name": "Python 3",
   "language": "python",
   "name": "python3"
  },
  "language_info": {
   "codemirror_mode": {
    "name": "ipython",
    "version": 3
   },
   "file_extension": ".py",
   "mimetype": "text/x-python",
   "name": "python",
   "nbconvert_exporter": "python",
   "pygments_lexer": "ipython3",
   "version": "3.13.2"
  }
 },
 "nbformat": 4,
 "nbformat_minor": 5
}
