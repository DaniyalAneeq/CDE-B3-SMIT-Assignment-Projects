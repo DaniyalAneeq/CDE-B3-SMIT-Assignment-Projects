{
 "cells": [
  {
   "cell_type": "markdown",
   "id": "40132424",
   "metadata": {},
   "source": [
    "<div align=\"center\"><b style=\"font-size: 40px\">Strings Assignment</b></div>"
   ]
  },
  {
   "cell_type": "markdown",
   "id": "a1fbc855",
   "metadata": {},
   "source": [
    "1. Write a program that accepts a string from user. Your program should count and display number of vowels in that string."
   ]
  },
  {
   "cell_type": "code",
   "execution_count": 5,
   "id": "6bf09436",
   "metadata": {},
   "outputs": [
    {
     "name": "stdout",
     "output_type": "stream",
     "text": [
      "user_input: hello from Pakistan\n",
      "Total number of vowels: 6\n"
     ]
    }
   ],
   "source": [
    "user_input = str(input(\"Enter a sentence: \"))\n",
    "vowels = [\"a\", \"e\", \"i\", \"o\", \"u\"]\n",
    "\n",
    "user_str = user_input.lower()\n",
    "no_of_a = user_str.count(\"a\")\n",
    "no_of_e = user_str.count(\"e\")\n",
    "no_of_i = user_str.count(\"i\")\n",
    "no_of_o = user_str.count(\"o\")\n",
    "no_of_u = user_str.count(\"u\")\n",
    "\n",
    "num_of_vowels = no_of_a + no_of_e + no_of_i + no_of_o + no_of_u\n",
    "\n",
    "print(f\"user_input: {user_input}\")\n",
    "print(f\"Total number of vowels: {num_of_vowels}\")"
   ]
  },
  {
   "cell_type": "markdown",
   "id": "3028a663",
   "metadata": {},
   "source": [
    " 2. Write a program that reads a string from keyboard and display: \n",
    "* The number of uppercase letters in the string. \n",
    "* The number of lowercase letters in the string. \n",
    "* The number of digits in the string.\n",
    "* The number of whitespace characters in the string ."
   ]
  },
  {
   "cell_type": "code",
   "execution_count": 4,
   "id": "208bab24",
   "metadata": {},
   "outputs": [
    {
     "name": "stdout",
     "output_type": "stream",
     "text": [
      "user_input: Hello from Pakistan\n",
      "Uppercase letters: 2\n",
      "Lowercase letters: 15\n",
      "Number of digits: 0\n",
      "Number of spaces: 2\n"
     ]
    }
   ],
   "source": [
    "user_input = str(input(\"Enter a sentence: \"))\n",
    "\n",
    "uppercase_letters = 0\n",
    "lowercase_letters = 0\n",
    "number_of_digits = 0\n",
    "number_of_spaces = 0\n",
    "\n",
    "for character in user_input:\n",
    "    if character.isupper():\n",
    "        uppercase_letters += 1\n",
    "    elif character.islower():\n",
    "        lowercase_letters += 1\n",
    "    elif character.isdigit():\n",
    "        number_of_digits += 1\n",
    "    elif character.isspace():\n",
    "        number_of_spaces += 1\n",
    "\n",
    "print(f\"user_input: {user_input}\")\n",
    "print(f\"Uppercase letters: {uppercase_letters}\")\n",
    "print(f\"Lowercase letters: {lowercase_letters}\")\n",
    "print(f\"Number of digits: {number_of_digits}\")\n",
    "print(f\"Number of spaces: {number_of_spaces}\")"
   ]
  },
  {
   "cell_type": "markdown",
   "id": "c05e0e04",
   "metadata": {},
   "source": [
    " 3. Write a Python program that accepts a string from user. Your program should create and display a new string where the first and last characters have been exchanged.\n",
    " For example if the user enters the string 'HELLO' then new string would be 'OELLH'  "
   ]
  },
  {
   "cell_type": "code",
   "execution_count": null,
   "id": "a8f6b303",
   "metadata": {},
   "outputs": [
    {
     "name": "stdout",
     "output_type": "stream",
     "text": [
      "p\n",
      "n\n",
      "Swapped string: nythop\n"
     ]
    }
   ],
   "source": [
    "user_input = str(input(\"Enter a string: \"))\n",
    "user_str = user_input.lower()\n",
    "\n",
    "first_char = user_str[0]\n",
    "last_char = user_str[-1]\n",
    "print(first_char)\n",
    "print(last_char)\n",
    "swapped_str = last_char + user_str[1:-1] + first_char \n",
    "print(f\"Swapped string: {swapped_str}\")\n"
   ]
  },
  {
   "cell_type": "markdown",
   "id": "440b6a47",
   "metadata": {},
   "source": [
    "4. Write a Python program that accepts a string from user. Your program should create a new string in reverse of first string and display it. \n",
    "For example if the user enters the string 'EXAM' then new string would be 'MAXE'"
   ]
  },
  {
   "cell_type": "code",
   "execution_count": 22,
   "id": "c9f9cb7d",
   "metadata": {},
   "outputs": [
    {
     "name": "stdout",
     "output_type": "stream",
     "text": [
      "olleh\n"
     ]
    }
   ],
   "source": [
    "user_input = str(input(\"Enter a string: \"))\n",
    "print(user_input[::-1])"
   ]
  },
  {
   "cell_type": "markdown",
   "id": "44a987d0",
   "metadata": {},
   "source": [
    " 5. Write a Python program that accepts a string from user. Your program should create a new string by shifting one position to left. \n",
    "For example if the user enters the string 'examination 2021' then new string would be 'xamination \n",
    "2021e' "
   ]
  },
  {
   "cell_type": "code",
   "execution_count": 36,
   "id": "9adbb03b",
   "metadata": {},
   "outputs": [
    {
     "name": "stdout",
     "output_type": "stream",
     "text": [
      "e\n",
      "xamonation 2021e\n"
     ]
    }
   ],
   "source": [
    "user_input = str(input(\"Enter a string: \"))\n",
    "first_char = user_input[0]\n",
    "print(first_char)\n",
    "print(user_input[1::] + first_char)"
   ]
  },
  {
   "cell_type": "markdown",
   "id": "81eb67df",
   "metadata": {},
   "source": [
    " 6. Write a program that asks the user to input his name and print its initials. Assuming that the user always types first name, middle name and last name and does not include any unnecessary spaces. \n",
    "For example, if the user enters Ajay Kumar Garg the program should display A. K. G. \n",
    "Note:Don't use split() method "
   ]
  },
  {
   "cell_type": "code",
   "execution_count": 41,
   "id": "198f476c",
   "metadata": {},
   "outputs": [
    {
     "name": "stdout",
     "output_type": "stream",
     "text": [
      "D.A.A.Q."
     ]
    }
   ],
   "source": [
    "user_name = str(input(\"Enter your full name: \"))\n",
    "\n",
    "print(user_name[0], end=\".\")\n",
    "for x in range(len(user_name)):\n",
    "    if user_name[x] == \" \":\n",
    "        print(user_name[x + 1], end=\".\")"
   ]
  },
  {
   "cell_type": "markdown",
   "id": "e174dbca",
   "metadata": {},
   "source": [
    "7. A palindrome is a string that reads the same backward as forward. For example, the words dad, \n",
    "madam and radar are all palindromes. Write a programs that determines whether the string is a \n",
    "palindrome. \n",
    "Note: do not use reverse() method  "
   ]
  },
  {
   "cell_type": "code",
   "execution_count": 51,
   "id": "915c95e8",
   "metadata": {},
   "outputs": [
    {
     "name": "stdout",
     "output_type": "stream",
     "text": [
      "The string is palindrome\n"
     ]
    }
   ],
   "source": [
    "user_input= str(input(\"Enter a string: \"))\n",
    "user_str = user_input.lower()\n",
    "if user_str[::-1] == user_str:\n",
    "    print(\"The string is palindrome\")\n",
    "else:\n",
    "    print(\"The string is not palindrome\")"
   ]
  },
  {
   "cell_type": "markdown",
   "id": "ae3a4bb6",
   "metadata": {},
   "source": [
    "8. Write a program that display following output: \n",
    "SHIFT \n",
    "HIFTS \n",
    "IFTSH \n",
    "FTSHI \n",
    "TSHIF \n",
    "SHIFT"
   ]
  },
  {
   "cell_type": "code",
   "execution_count": 54,
   "id": "6d715c1d",
   "metadata": {},
   "outputs": [
    {
     "name": "stdout",
     "output_type": "stream",
     "text": [
      "shift\n",
      "hifts\n",
      "iftsh\n",
      "ftshi\n",
      "tshif\n"
     ]
    }
   ],
   "source": [
    "user_input = str(input(\"Enter a word: \"))\n",
    "\n",
    "for x in range(len(user_input)):\n",
    "    shifted_str = user_input[x::] + user_input[0:x]\n",
    "    print(shifted_str)"
   ]
  },
  {
   "cell_type": "markdown",
   "id": "ef2c75ee",
   "metadata": {},
   "source": [
    "9. Write a program in python that accepts a string to setup a passwords. Your entered password must \n",
    "meet the following requirements: \n",
    "The password must be at least eight characters long. \n",
    "It must contain at least one uppercase letter. \n",
    "It must contain at least one lowercase letter. \n",
    "It must contain at least one numeric digit. \n",
    "Your program should should perform this validation."
   ]
  },
  {
   "cell_type": "code",
   "execution_count": null,
   "id": "6a9d83bd",
   "metadata": {},
   "outputs": [],
   "source": [
    "password = str(input(\"Enter your password: \"))\n",
    "\n",
    "if len(password) >= 8:\n",
    "    is_uppercase = False\n",
    "    is_lowercase = False\n",
    "    it_is_digit = False\n",
    "    for char in password:\n",
    "        if char.isupper():\n",
    "            is_uppercase = True\n",
    "            print(\"Uppercase letter found\")\n",
    "        if char.islower():\n",
    "            is_lowercase = True\n",
    "            print(\"Lowercase letter found\")\n",
    "        if char.isdigit():\n",
    "            it_is_digit = True\n",
    "            print(\"Digit found\")\n",
    "            \n",
    "    if is_uppercase and is_lowercase and it_is_digit:\n",
    "        print(\"Password is valid!\")\n",
    "    else:\n",
    "        print(\"Invalid passwrd: it must contain at least on uppercase letter, lowercase letter and a digit.\")\n",
    "\n",
    "else:\n",
    "    print(\"Password is invalid!: Length should beat least 8 characters.\")"
   ]
  }
 ],
 "metadata": {
  "kernelspec": {
   "display_name": "Python 3",
   "language": "python",
   "name": "python3"
  },
  "language_info": {
   "codemirror_mode": {
    "name": "ipython",
    "version": 3
   },
   "file_extension": ".py",
   "mimetype": "text/x-python",
   "name": "python",
   "nbconvert_exporter": "python",
   "pygments_lexer": "ipython3",
   "version": "3.13.2"
  }
 },
 "nbformat": 4,
 "nbformat_minor": 5
}
