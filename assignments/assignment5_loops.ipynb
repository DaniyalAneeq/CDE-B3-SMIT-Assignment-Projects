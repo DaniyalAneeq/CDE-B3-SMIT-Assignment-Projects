{
 "cells": [
  {
   "cell_type": "markdown",
   "id": "0b5d19ab",
   "metadata": {},
   "source": [
    "<div align=\"center\"><b style=\"font-size: 40px\">Looping Structures</b></div>"
   ]
  },
  {
   "cell_type": "markdown",
   "id": "82ecf482",
   "metadata": {},
   "source": [
    "1. Write a Python program to print the numbers from 1 to 10 using a for loop.  "
   ]
  },
  {
   "cell_type": "code",
   "execution_count": 1,
   "id": "c48da31d",
   "metadata": {},
   "outputs": [
    {
     "name": "stdout",
     "output_type": "stream",
     "text": [
      "1\n",
      "2\n",
      "3\n",
      "4\n",
      "5\n",
      "6\n",
      "7\n",
      "8\n",
      "9\n",
      "10\n"
     ]
    }
   ],
   "source": [
    "for i in range(1, 11):\n",
    "    print(i)"
   ]
  },
  {
   "cell_type": "markdown",
   "id": "0ec31eee",
   "metadata": {},
   "source": [
    "2. Write a Python program to print the numbers from 20 to 1 using a while loop."
   ]
  },
  {
   "cell_type": "code",
   "execution_count": 4,
   "id": "cd8125bf",
   "metadata": {},
   "outputs": [
    {
     "name": "stdout",
     "output_type": "stream",
     "text": [
      "20\n",
      "19\n",
      "18\n",
      "17\n",
      "16\n",
      "15\n",
      "14\n",
      "13\n",
      "12\n",
      "11\n",
      "10\n",
      "9\n",
      "8\n",
      "7\n",
      "6\n",
      "5\n",
      "4\n",
      "3\n",
      "2\n",
      "1\n"
     ]
    }
   ],
   "source": [
    "num = 20\n",
    "\n",
    "while num >= 1:\n",
    "    print(num)\n",
    "    num -= 1"
   ]
  },
  {
   "cell_type": "markdown",
   "id": "2f26c05c",
   "metadata": {},
   "source": [
    "3. Write a program to print even numbers from 1 to 10. "
   ]
  },
  {
   "cell_type": "code",
   "execution_count": 9,
   "id": "e082773c",
   "metadata": {},
   "outputs": [
    {
     "name": "stdout",
     "output_type": "stream",
     "text": [
      "Even numbers: 2\n",
      "Even numbers: 4\n",
      "Even numbers: 6\n",
      "Even numbers: 8\n",
      "Even numbers: 10\n"
     ]
    }
   ],
   "source": [
    "for val in range(1, 11):\n",
    "    if val % 2 == 0:\n",
    "        print(f\"Even numbers: {val}\")"
   ]
  },
  {
   "cell_type": "markdown",
   "id": "954c9d2a",
   "metadata": {},
   "source": [
    "4. Write a program that prompts the user to enter a number n and prints all the \n",
    "numbers from 1 to n. "
   ]
  },
  {
   "cell_type": "code",
   "execution_count": 11,
   "id": "ab8cfe5c",
   "metadata": {},
   "outputs": [
    {
     "name": "stdout",
     "output_type": "stream",
     "text": [
      "1\n",
      "2\n",
      "3\n",
      "4\n",
      "5\n",
      "6\n",
      "7\n",
      "8\n",
      "9\n",
      "10\n"
     ]
    }
   ],
   "source": [
    "num = int(input(\"Enter a number: \"))\n",
    "\n",
    "for i in range(1, num + 1):\n",
    "    print(i)"
   ]
  },
  {
   "cell_type": "markdown",
   "id": "2f19fe49",
   "metadata": {},
   "source": [
    "5. Write a program that prompts the user to enter a number n, and then prints all the odd numbers between 1 and n."
   ]
  },
  {
   "cell_type": "code",
   "execution_count": 13,
   "id": "40d09ee7",
   "metadata": {},
   "outputs": [
    {
     "name": "stdout",
     "output_type": "stream",
     "text": [
      "1\n",
      "3\n",
      "5\n",
      "7\n",
      "9\n",
      "11\n"
     ]
    }
   ],
   "source": [
    "num = int(input(\"Enter a number: \"))\n",
    "for i in range(1, num + 1):\n",
    "    if i % 2 != 0:\n",
    "        print(i)"
   ]
  },
  {
   "cell_type": "markdown",
   "id": "85252ab2",
   "metadata": {},
   "source": [
    "6. Write a program that prints 'Happy Birthday!' five times on screen."
   ]
  },
  {
   "cell_type": "code",
   "execution_count": 15,
   "id": "4b4484b5",
   "metadata": {},
   "outputs": [
    {
     "name": "stdout",
     "output_type": "stream",
     "text": [
      "Happy Birthday!\n",
      "Happy Birthday!\n",
      "Happy Birthday!\n",
      "Happy Birthday!\n",
      "Happy Birthday!\n"
     ]
    }
   ],
   "source": [
    "for temp in range(5):\n",
    "    print(\"Happy Birthday!\") "
   ]
  },
  {
   "cell_type": "markdown",
   "id": "87138cae",
   "metadata": {},
   "source": [
    " 7. Write a program that takes a number n as input from the user and generates the first n terms of the series formed by squaring the natural numbers."
   ]
  },
  {
   "cell_type": "code",
   "execution_count": 20,
   "id": "4a51dc96",
   "metadata": {},
   "outputs": [
    {
     "name": "stdout",
     "output_type": "stream",
     "text": [
      "The fiirst 6 terms of the series are: 1\n",
      "The fiirst 6 terms of the series are: 4\n",
      "The fiirst 6 terms of the series are: 9\n",
      "The fiirst 6 terms of the series are: 16\n",
      "The fiirst 6 terms of the series are: 25\n",
      "The fiirst 6 terms of the series are: 36\n"
     ]
    }
   ],
   "source": [
    "num = int(input(\"Enter a number: \"))\n",
    "\n",
    "for i in range(1, num+1):\n",
    "    print(f\"The fiirst {num} terms of the series are: {i ** 2}\" )"
   ]
  },
  {
   "cell_type": "markdown",
   "id": "6f633907",
   "metadata": {},
   "source": [
    "8. Write a program that prompts the user to input a number and prints its multiplication table."
   ]
  },
  {
   "cell_type": "code",
   "execution_count": 21,
   "id": "50122402",
   "metadata": {},
   "outputs": [
    {
     "name": "stdout",
     "output_type": "stream",
     "text": [
      "4 * 1 = 4\n",
      "4 * 2 = 8\n",
      "4 * 3 = 12\n",
      "4 * 4 = 16\n",
      "4 * 5 = 20\n",
      "4 * 6 = 24\n",
      "4 * 7 = 28\n",
      "4 * 8 = 32\n",
      "4 * 9 = 36\n",
      "4 * 10 = 40\n"
     ]
    }
   ],
   "source": [
    "num = int(input(\"Enter a number: \"))\n",
    "\n",
    "for val in range(1, 11):\n",
    "    print(f\"{num} * {val} = {num*val}\")\n"
   ]
  },
  {
   "cell_type": "markdown",
   "id": "94a2e7d6",
   "metadata": {},
   "source": [
    "9. Write a Python program to print the first 8 terms of an arithmetic progression starting \n",
    "with 3 and having a common difference of 4. \n",
    "The program should output the following sequence: \n",
    "3 7 11 15 19 23 27 31. "
   ]
  },
  {
   "cell_type": "code",
   "execution_count": 24,
   "id": "8e2aa38b",
   "metadata": {},
   "outputs": [
    {
     "name": "stdout",
     "output_type": "stream",
     "text": [
      "3\n",
      "7\n",
      "11\n",
      "15\n",
      "19\n",
      "23\n",
      "27\n",
      "31\n"
     ]
    }
   ],
   "source": [
    "for i in range(3, 31+1, 4):\n",
    "    print(i)"
   ]
  },
  {
   "cell_type": "markdown",
   "id": "9908bc76",
   "metadata": {},
   "source": [
    "10. Write a Python program to print the first 6 terms of a geometric sequence starting \n",
    "with 2 and having a common ratio of 3. \n",
    "The program should output the following sequence: \n",
    "2 6 18 54 162 486"
   ]
  },
  {
   "cell_type": "code",
   "execution_count": 50,
   "id": "60f40b73",
   "metadata": {},
   "outputs": [
    {
     "name": "stdout",
     "output_type": "stream",
     "text": [
      "2\n",
      "6\n",
      "18\n",
      "54\n",
      "162\n",
      "486\n"
     ]
    }
   ],
   "source": [
    "\n",
    "start = 2\n",
    "i = 1\n",
    "\n",
    "while i <= 6:\n",
    "    print(start)\n",
    "    start *= 3\n",
    "    i += 1"
   ]
  },
  {
   "cell_type": "markdown",
   "id": "5f96e573",
   "metadata": {},
   "source": [
    "11. Write a program that asks the user for a positive integer value. The program should \n",
    "calculate the sum of all the integers from 1 up to the number entered. For example, if \n",
    "the user enters 20, the loop will find the sum of 1, 2, 3, 4, ... 20.  "
   ]
  },
  {
   "cell_type": "code",
   "execution_count": 57,
   "id": "a75febeb",
   "metadata": {},
   "outputs": [
    {
     "name": "stdout",
     "output_type": "stream",
     "text": [
      "210\n"
     ]
    }
   ],
   "source": [
    "num = int(input(\"Enter a positive number: \"))\n",
    "i = 1\n",
    "total = 0\n",
    "while i <= num:\n",
    "    total += i\n",
    "    i += 1\n",
    "print(total)"
   ]
  },
  {
   "cell_type": "markdown",
   "id": "87f629b6",
   "metadata": {},
   "source": [
    "12. write a program that takes a positive integer N as input and calculates the sum of \n",
    "the reciprocals of all numbers from 1 up to N. The program should display the final sum.\n",
    "\n",
    "Output of the program should be like\n",
    "<br/> \n",
    "Enter a positive integer: 5 \n",
    "<br/>\n",
    "The sum of reciprocals from 1 to 5 is: 2.28 "
   ]
  },
  {
   "cell_type": "code",
   "execution_count": 61,
   "id": "d1824c0f",
   "metadata": {},
   "outputs": [
    {
     "name": "stdout",
     "output_type": "stream",
     "text": [
      "number: 5\n",
      "2.283333333333333\n"
     ]
    }
   ],
   "source": [
    "num = int(input(\"Enter a positive number: \"))\n",
    "total = 0\n",
    "\n",
    "for i in range(1, num + 1):\n",
    "    total+= 1/i\n",
    "print(f\"number: {num}\")\n",
    "print(total)\n"
   ]
  },
  {
   "cell_type": "markdown",
   "id": "9fd685b3",
   "metadata": {},
   "source": [
    "13. Write a program that prompts the user to enter a number and repeats this process 5 \n",
    "times. The program should accumulate the numbers entered and then display the final \n",
    "running total.\n",
    "<br/> \n",
    "Sample Output:\n",
    "<br/>  \n",
    "Enter a number: 10\n",
    "<br/>  \n",
    "Enter a number: 15\n",
    "<br/>  \n",
    "Enter a number: 35\n",
    "<br/>  \n",
    "Enter a number: 40\n",
    "<br/>  \n",
    "Enter a number: 50\n",
    "<br/>  \n",
    "The final running total is: 150"
   ]
  },
  {
   "cell_type": "code",
   "execution_count": 64,
   "id": "fc56dda8",
   "metadata": {},
   "outputs": [
    {
     "name": "stdout",
     "output_type": "stream",
     "text": [
      "The final running total is: 150\n"
     ]
    }
   ],
   "source": [
    "i = 1\n",
    "total = 0\n",
    "while i <= 5:\n",
    "    user_input = int(input(\"Enter a number: \"))\n",
    "    total += user_input\n",
    "    i += 1\n",
    "print(f\"The final running total is: {total}\")"
   ]
  },
  {
   "cell_type": "markdown",
   "id": "26196b4e",
   "metadata": {},
   "source": [
    "14. Write a program that prompts the user to enter a positive integer and calculates its \n",
    "factorial. The factorial of a positive integer 'n' is denoted as 'n!' and is calculated by \n",
    "multiplying all the integers from 1 to 'n' together. For example, the factorial of 5 \n",
    "(denoted as 5!) is calculated as 1 x 2 x 3 x 4 x 5.\n",
    "<br/>  \n",
    "The program should display the factorial value if the input is a positive number, or \n",
    "display a message stating that the factorial does not exist for negative numbers. \n",
    "Additionally, for an input of zero, the program should output that the factorial of 0 is 1. "
   ]
  },
  {
   "cell_type": "code",
   "execution_count": 74,
   "id": "aed79c5f",
   "metadata": {},
   "outputs": [
    {
     "name": "stdout",
     "output_type": "stream",
     "text": [
      "input value: 5\n",
      "Factorial Value: 120\n"
     ]
    }
   ],
   "source": [
    "num = int(input(\"Enter a positive number: \"))\n",
    "total = 1 \n",
    "if num > 0:\n",
    "    for i in range(1, num+1):\n",
    "        total *= i\n",
    "    print(f\"input value: {num}\") \n",
    "    print(f\"Factorial Value: {total}\")\n",
    "elif num == 0:\n",
    "    print(f\"The factorial of {num} is 1\")\n",
    "else:\n",
    "    print(\"The factorial does not exist for negative numbers.\")"
   ]
  },
  {
   "cell_type": "markdown",
   "id": "e5d918b6",
   "metadata": {},
   "source": [
    "15. Write a Python program that prompts the user to enter a base number and an \n",
    "exponent, and then calculates the power of the base to the exponent. The program \n",
    "should not use the exponentiation operator (**) or the math.pow() function. The \n",
    "program should handle both positive and negative exponents.   "
   ]
  },
  {
   "cell_type": "code",
   "execution_count": 106,
   "id": "69e9e9ca",
   "metadata": {},
   "outputs": [
    {
     "name": "stdout",
     "output_type": "stream",
     "text": [
      "The negative power -3 of base: 2 is = 0.125\n"
     ]
    }
   ],
   "source": [
    "base_num = int(input(\"Enter a base number: \"))\n",
    "exp_num = int(input(\"Enter an exponential value: \"))\n",
    "result = 1\n",
    "\n",
    "if exp_num > 0:\n",
    "    for i in range(exp_num):\n",
    "        result *= base_num\n",
    "elif exp_num == 0:\n",
    "    print(f\"Power {exp_num} of base: {base_num} is = {result}\")\n",
    "else:\n",
    "    for i in range(-exp_num):\n",
    "        result *= base_num\n",
    "    result = 1 / result\n",
    "    print(f\"The negative power {exp_num} of base: {base_num} is = {result}\")\n",
    "\n",
    "if exp_num > 0:\n",
    "    print(f\"Power {exp_num} of base: {base_num} is = {result}\")\n",
    "    "
   ]
  }
 ],
 "metadata": {
  "kernelspec": {
   "display_name": "Python 3",
   "language": "python",
   "name": "python3"
  },
  "language_info": {
   "codemirror_mode": {
    "name": "ipython",
    "version": 3
   },
   "file_extension": ".py",
   "mimetype": "text/x-python",
   "name": "python",
   "nbconvert_exporter": "python",
   "pygments_lexer": "ipython3",
   "version": "3.13.2"
  }
 },
 "nbformat": 4,
 "nbformat_minor": 5
}
