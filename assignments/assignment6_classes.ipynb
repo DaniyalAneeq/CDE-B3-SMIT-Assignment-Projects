{
 "cells": [
  {
   "cell_type": "markdown",
   "id": "06549379",
   "metadata": {},
   "source": [
    "<div align=\"center\"><b style=\"font-size: 40px\">Classes</b></div>"
   ]
  },
  {
   "cell_type": "markdown",
   "id": "f90f171d",
   "metadata": {},
   "source": [
    "1. Write a Python program to create a class representing a Circle. Include methods to calculate its area and perimeter."
   ]
  },
  {
   "cell_type": "code",
   "execution_count": 2,
   "id": "620f68fb",
   "metadata": {},
   "outputs": [
    {
     "name": "stdout",
     "output_type": "stream",
     "text": [
      "Area:  50.24\n",
      "Perimeter:  25.12\n"
     ]
    }
   ],
   "source": [
    "# The perimeter of a circle can be calculated using the formula C = 2πr\n",
    "# area can be calculated using the formula A = πr²\n",
    "class Circle:\n",
    "     \n",
    "    def __init__(self, radius):\n",
    "        self.radius = radius\n",
    "        \n",
    "    def area(self):\n",
    "        pi = 3.14\n",
    "        return pi * (self.radius ** 2)\n",
    "    \n",
    "    def perimeter(self):\n",
    "        pi = 3.14\n",
    "        return 2 * pi * self.radius\n",
    "    \n",
    "circle = Circle(4)\n",
    "print(\"Area: \", circle.area())\n",
    "print(\"Perimeter: \", circle.perimeter())\n",
    "    \n",
    "    "
   ]
  },
  {
   "cell_type": "markdown",
   "id": "68a9ed0f",
   "metadata": {},
   "source": [
    "2. Write a Python program to create a person class. Include attributes like name, country and date of birth. Implement a method to determine the person's age."
   ]
  },
  {
   "cell_type": "code",
   "execution_count": null,
   "id": "d94bd7db",
   "metadata": {},
   "outputs": [
    {
     "name": "stdout",
     "output_type": "stream",
     "text": [
      "user is 35 years old and lives in Pakistan.\n"
     ]
    }
   ],
   "source": [
    "class Person:\n",
    "    def __init__(self, name, country, date_of_birth):\n",
    "        self.name = name\n",
    "        self.country = country\n",
    "        self.date_of_birth = date_of_birth\n",
    "        \n",
    "    def age(self, current_year):\n",
    "        birth_year = int(self.date_of_birth.split(\"-\")[0])\n",
    "        return current_year - birth_year\n",
    "        \n",
    "person = Person(\"user\", \"Pakistan\", \"1990-05-28\")\n",
    "print(f\"{person.name} is { person.age(2025)} years old and lives in {person.country}.\")"
   ]
  },
  {
   "cell_type": "markdown",
   "id": "ac20a6e8",
   "metadata": {},
   "source": [
    "3. Write a Python program to create a calculator class. Include methods for basic arithmetic operations."
   ]
  },
  {
   "cell_type": "code",
   "execution_count": 14,
   "id": "866b5d3d",
   "metadata": {},
   "outputs": [
    {
     "name": "stdout",
     "output_type": "stream",
     "text": [
      "Addition: 8\n",
      "Subtraction: 2\n",
      "Multiplication: 15\n",
      "Division: 1.6666666666666667\n"
     ]
    }
   ],
   "source": [
    "class Calculator:\n",
    "    \n",
    "    def add(self, a, b):\n",
    "        return a + b\n",
    "    \n",
    "    def subtract(self, a, b):  \n",
    "        return a - b\n",
    "    \n",
    "    def multiply(self, a, b):\n",
    "        return a * b\n",
    "    \n",
    "    def divide(self, a, b):\n",
    "        if b != 0:\n",
    "            return a / b\n",
    "        else:\n",
    "            return \"Error dividing with zero\"\n",
    "        \n",
    "calculator = Calculator()\n",
    "\n",
    "print(f\"Addition: {calculator.add(5, 3)}\")\n",
    "print(f\"Subtraction: {calculator.subtract(5, 3)}\")\n",
    "print(f\"Multiplication: {calculator.multiply(5, 3)}\")\n",
    "print(f\"Division: {calculator.divide(5, 3)}\")"
   ]
  }
 ],
 "metadata": {
  "kernelspec": {
   "display_name": "Python 3",
   "language": "python",
   "name": "python3"
  },
  "language_info": {
   "codemirror_mode": {
    "name": "ipython",
    "version": 3
   },
   "file_extension": ".py",
   "mimetype": "text/x-python",
   "name": "python",
   "nbconvert_exporter": "python",
   "pygments_lexer": "ipython3",
   "version": "3.13.2"
  }
 },
 "nbformat": 4,
 "nbformat_minor": 5
}
