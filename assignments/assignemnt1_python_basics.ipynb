{
 "cells": [
  {
   "cell_type": "markdown",
   "id": "b057dfaf",
   "metadata": {},
   "source": [
    "<div align=\"center\"><b style=\"font-size: 40px\">Python Basics (Variables)</b></div>"
   ]
  },
  {
   "cell_type": "markdown",
   "id": "29e4c92c",
   "metadata": {},
   "source": [
    "1. Print Your Name with your Father name and Date of birth using suitable escape sequence charactor."
   ]
  },
  {
   "cell_type": "code",
   "execution_count": 3,
   "id": "de1d4393",
   "metadata": {},
   "outputs": [
    {
     "name": "stdout",
     "output_type": "stream",
     "text": [
      "\n",
      " My name is: Daniyal Aneeq Ahmed \n",
      " Son of: Laeeq Ahmed Qureshi \n",
      " Date of bith: 28-05-2025 \n"
     ]
    }
   ],
   "source": [
    "my_name = \"Daniyal Aneeq Ahmed\"\n",
    "father_name = \"Laeeq Ahmed Qureshi\"\n",
    "dob = \"28-05-2025\"\n",
    "\n",
    "print(f\"\\n My name is: {my_name} \\n Son of: {father_name} \\n Date of bith: {dob} \") "
   ]
  },
  {
   "cell_type": "markdown",
   "id": "824c35b9",
   "metadata": {},
   "source": [
    "2. Write your small bio using variables and print it using print function"
   ]
  },
  {
   "cell_type": "code",
   "execution_count": 7,
   "id": "64790f70",
   "metadata": {},
   "outputs": [
    {
     "name": "stdout",
     "output_type": "stream",
     "text": [
      "My name is Daniyal and I'm learning Cloud Data Engineering at SMIT.\n"
     ]
    }
   ],
   "source": [
    "my_bio = \"My name is Daniyal and I'm learning Cloud Data Engineering at SMIT.\"\n",
    "\n",
    "print(my_bio)"
   ]
  },
  {
   "cell_type": "markdown",
   "id": "cc5c6123",
   "metadata": {},
   "source": [
    "3. Write a program in which use all the operators we can use in Python"
   ]
  },
  {
   "cell_type": "code",
   "execution_count": 76,
   "id": "e0d8b34d",
   "metadata": {},
   "outputs": [
    {
     "name": "stdout",
     "output_type": "stream",
     "text": [
      "14\n",
      "6\n",
      "40\n",
      "2.5\n",
      "2\n",
      "2\n",
      "10000\n",
      "--------------------------------------------------\n",
      "False\n",
      "True\n",
      "False\n",
      "True\n",
      "True\n",
      "False\n",
      "--------------------------------------------------\n",
      "False\n",
      "True\n",
      "True\n",
      "False\n",
      "--------------------------------------------------\n",
      "2\n",
      "15\n",
      "13\n",
      "-8\n",
      "2\n",
      "40\n",
      "--------------------------------------------------\n",
      "11\n",
      "11\n",
      "20\n",
      "9\n",
      "320\n",
      "3.0\n",
      "1\n",
      "5\n",
      "--------------------------------------------------\n",
      "True\n",
      "False\n",
      "--------------------------------------------------\n",
      "False\n",
      "True\n",
      "True\n"
     ]
    }
   ],
   "source": [
    "# Arithmetic operators\n",
    "a = 10\n",
    "b = 4 \n",
    " \n",
    "c = a + b\n",
    "print(c)\n",
    "\n",
    "c = a - b\n",
    "print(c)\n",
    "\n",
    "c = a * b\n",
    "print(c)\n",
    "\n",
    "c = a / b\n",
    "print(c)\n",
    "\n",
    "c = a // b\n",
    "print(c)\n",
    "\n",
    "c = a % b\n",
    "print(c)\n",
    "\n",
    "c = a ** b\n",
    "print(c)\n",
    "\n",
    "print(\"-\" * 50)\n",
    "\n",
    "# Comparison operators\n",
    "y = 11\n",
    "z = 12\n",
    "\n",
    "print(y == z)\n",
    "print(y != z)\n",
    "print(y > z)\n",
    "print(y < z)\n",
    "print(y <= z)\n",
    "print(y >= z)\n",
    "\n",
    "print(\"-\" * 50)\n",
    "\n",
    "# Logical operators\n",
    "t = True\n",
    "f = False\n",
    "\n",
    "print(t and f)\n",
    "print(t or f)\n",
    "print(not f)\n",
    "print(not t)\n",
    "\n",
    "print(\"-\" * 50)\n",
    "\n",
    "# Bitwise operators \n",
    "a = 10\n",
    "b = 7\n",
    "\n",
    "print(a & b)\n",
    "print(a | b)\n",
    "print(a ^ b)\n",
    "print(~b)\n",
    "print(a >> 2)\n",
    "print(a << 2)\n",
    "\n",
    "print(\"-\" * 50)\n",
    "\n",
    "# Assignment operators\n",
    "e = 9\n",
    "f = 11\n",
    "\n",
    "# f = e\n",
    "x = f\n",
    "print(f)\n",
    "print(x)\n",
    "\n",
    "e += f\n",
    "print(e)\n",
    "\n",
    "e -= f\n",
    "print(e)\n",
    "\n",
    "o = 16\n",
    "z= 20\n",
    "\n",
    "o *= z\n",
    "print(o)\n",
    "\n",
    "l = 6\n",
    "m = 2\n",
    "\n",
    "l /= m\n",
    "print(l)\n",
    "\n",
    "n = 20\n",
    "p = 15\n",
    "n //= p\n",
    "print(n)\n",
    "\n",
    "n = 20\n",
    "p = 15\n",
    "\n",
    "n %= p\n",
    "print(n)\n",
    "\n",
    "print(\"-\" * 50)\n",
    "\n",
    "# Membership operators\n",
    "a = \"Cloud Data Engineering\"\n",
    "b = \"Data\"\n",
    "\n",
    "print(b in a)\n",
    "print(b not in a)\n",
    "\n",
    "print(\"-\" * 50)\n",
    "\n",
    "# Identity operators\n",
    "x1 = 5\n",
    "x2 = 6\n",
    "\n",
    "x3 = x1\n",
    "\n",
    "print(x1 is x2) \n",
    "print(x1 is not x2) \n",
    "print(x1 is x3) \n",
    "\n",
    "\n"
   ]
  },
  {
   "cell_type": "markdown",
   "id": "380cc6b3",
   "metadata": {},
   "source": [
    "4. Completes the following steps of small task:\n",
    "    - Mention Marks of English , Islamiat and Maths out of 100 in 3 different variables\n",
    "    - Mention Variable of Total Marks and assign 300 to it\n",
    "    - Calculate Percentage"
   ]
  },
  {
   "cell_type": "code",
   "execution_count": 81,
   "id": "50868925",
   "metadata": {},
   "outputs": [
    {
     "name": "stdout",
     "output_type": "stream",
     "text": [
      "\n",
      " Total marks obtained: 255\n",
      " Percentage: 85.0 %\n"
     ]
    }
   ],
   "source": [
    "marks_of_english = 85\n",
    "marks_of_math = 90\n",
    "marks_of_Islamiat = 80\n",
    "\n",
    "\n",
    "total_marks = marks_of_english + marks_of_math + marks_of_Islamiat\n",
    "print(f\"\\n Total marks obtained: {total_marks}\")\n",
    "percentage = (total_marks / 300) * 100  \n",
    "print(f\" Percentage: {percentage} %\")\n"
   ]
  }
 ],
 "metadata": {
  "kernelspec": {
   "display_name": "Python 3",
   "language": "python",
   "name": "python3"
  },
  "language_info": {
   "codemirror_mode": {
    "name": "ipython",
    "version": 3
   },
   "file_extension": ".py",
   "mimetype": "text/x-python",
   "name": "python",
   "nbconvert_exporter": "python",
   "pygments_lexer": "ipython3",
   "version": "3.13.2"
  }
 },
 "nbformat": 4,
 "nbformat_minor": 5
}
