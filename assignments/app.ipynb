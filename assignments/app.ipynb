{
 "cells": [
  {
   "cell_type": "markdown",
   "id": "9caba5c5",
   "metadata": {},
   "source": [
    "### Passed by Reference\n",
    "\n",
    "- If the type of the variable is mutable then the memory store it's reference.\n"
   ]
  },
  {
   "cell_type": "code",
   "execution_count": 9,
   "id": "76282a88",
   "metadata": {},
   "outputs": [
    {
     "name": "stdout",
     "output_type": "stream",
     "text": [
      "[1, 8, 4, 6, 9, 7]\n",
      "[1, 8, 4, 6, 9, 7, 4]\n",
      "[1, 8, 4, 6, 9, 7, 4]\n"
     ]
    }
   ],
   "source": [
    "z = [1,8,5,6,9,7]\n",
    "z[2] = 4\n",
    "print(z)\n",
    "\n",
    "a = z\n",
    "\n",
    "a.append(4)\n",
    "print(a)\n",
    "print(z)"
   ]
  },
  {
   "cell_type": "markdown",
   "id": "ff4d1c99",
   "metadata": {},
   "source": [
    "### Passed by Value\n",
    "- If the type of the variable is immutable then the memory store it's value."
   ]
  },
  {
   "cell_type": "code",
   "execution_count": 10,
   "id": "2040aabd",
   "metadata": {},
   "outputs": [
    {
     "name": "stdout",
     "output_type": "stream",
     "text": [
      "45 46\n"
     ]
    }
   ],
   "source": [
    "x = 45\n",
    "y = x\n",
    "y += 1\n",
    "print(x, y)"
   ]
  },
  {
   "cell_type": "markdown",
   "id": "5e3cc4e0",
   "metadata": {},
   "source": []
  }
 ],
 "metadata": {
  "kernelspec": {
   "display_name": "Python 3",
   "language": "python",
   "name": "python3"
  },
  "language_info": {
   "codemirror_mode": {
    "name": "ipython",
    "version": 3
   },
   "file_extension": ".py",
   "mimetype": "text/x-python",
   "name": "python",
   "nbconvert_exporter": "python",
   "pygments_lexer": "ipython3",
   "version": "3.13.2"
  }
 },
 "nbformat": 4,
 "nbformat_minor": 5
}
